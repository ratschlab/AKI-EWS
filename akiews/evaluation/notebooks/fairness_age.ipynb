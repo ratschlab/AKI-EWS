{
 "cells": [
  {
   "cell_type": "code",
   "execution_count": 1,
   "id": "d657255d-ffbc-4a2d-a320-a57e666e5d8d",
   "metadata": {},
   "outputs": [],
   "source": [
    "import pandas as pd\n",
    "import numpy as np\n",
    "import os\n",
    "import h5py\n",
    "from copy import deepcopy\n",
    "import sklearn.metrics as metrics\n",
    "\n",
    "import matplotlib.pyplot as plt\n",
    "plt.style.use('paper.mplstyle')\n",
    "import seaborn as sns\n",
    "\n",
    "from utils_plot import *\n",
    "\n",
    "cm = 1/2.54 \n",
    "h=5.8*1.1\n",
    "w=6*1.1\n",
    "\n",
    "resp_res_path = '/cluster/work/grlab/clinical/hirid2/research/event_based_analysis/resp/'\n",
    "renal_res_path = '/cluster/work/grlab/clinical/hirid2/research/kdigo_analysis/'\n",
    "resp_fig_path = '../Figures_Resp'\n",
    "renal_fig_path = 'paper_figures_renal'"
   ]
  },
  {
   "cell_type": "code",
   "execution_count": 2,
   "id": "b3dbf7e2-5e07-4237-a7b8-ff492d413daf",
   "metadata": {},
   "outputs": [],
   "source": [
    "# early warning system configuration\n",
    "renal_ews_configs = dict()\n",
    "renal_ews_configs.update(pred_win=2880)\n",
    "renal_ews_configs.update(min_event_gap=0)\n",
    "renal_ews_configs.update(t_silence=480)\n",
    "renal_ews_configs.update(t_buffer=0)\n",
    "renal_ews_configs.update(t_reset=720)\n",
    "\n",
    "splits = ['temporal_%d'%i for i in np.arange(1,6)]\n",
    "calibration = True"
   ]
  },
  {
   "cell_type": "code",
   "execution_count": 3,
   "id": "b205fcca-5b08-4fb0-beaf-833d58203af7",
   "metadata": {},
   "outputs": [],
   "source": [
    "curve_ref = {\"ref\": dict(res_path=os.path.join(renal_res_path, \"var28_simple_features_separate_combined_calibrated_lgbm_test_FromZero\"),\n",
    "                         color='C0',\n",
    "                         linestyle='-',\n",
    "                         random_classifier=False,\n",
    "                         splits=splits)}\n",
    "\n",
    "for k in curve_ref.keys():\n",
    "    curve_ref[k].update(dict(**renal_ews_configs))\n",
    "    \n",
    "plt.figure(figsize=(w*2*cm, h*cm))\n",
    "_, prev_ref = plot_event_based_prc(curve_ref, fixed_rec=1.0)\n",
    "plt.close()"
   ]
  },
  {
   "cell_type": "code",
   "execution_count": 4,
   "id": "6f9bdfc3-e7a3-4657-a84f-ed73d2b35e69",
   "metadata": {},
   "outputs": [],
   "source": [
    "curves = dict()\n",
    "\n",
    "for i, age in enumerate(['age_16_30', 'age_31_45', \"age_46_65\", \"age_66_80\", \"age_81_100\"]):\n",
    "    curves.update({age: dict(res_path=os.path.join(renal_res_path, 'var28_simple_features_subcohort_%s_separate_combined_calibrated_lgbm_test_FromZero'%age),\n",
    "                             color='C0',\n",
    "                             linestyle='-',\n",
    "                             random_classifier=False,\n",
    "                             age=age,\n",
    "                             splits=splits)})\n",
    "\n",
    "for k in curves.keys():\n",
    "    curves[k].update(dict(**renal_ews_configs))\n",
    "    \n",
    "plt.figure(figsize=(w*2*cm, h*cm))\n",
    "_, prev = plot_metric_vs_setting(curves,xlabel=\"age\",ylabel=\"precision\", fixed_rec=1)\n",
    "plt.close()"
   ]
  },
  {
   "cell_type": "code",
   "execution_count": 5,
   "id": "ffcf3be6-017b-4c1b-b3b0-832335c892a1",
   "metadata": {},
   "outputs": [],
   "source": [
    "curves = dict()\n",
    "for i, age in enumerate(['age_16_30', 'age_31_45', \"age_46_65\", \"age_66_80\", \"age_81_100\"]):\n",
    "    prev_adj = prev[i]\n",
    "    calibrated_s = (1/prev_ref-1) / (1/prev_adj-1)\n",
    "    curves.update({age: dict(res_path=os.path.join(renal_res_path, 'var28_simple_features_subcohort_%s_separate_combined_calibrated_lgbm_test_FromZero'%age),\n",
    "                             color='C0',\n",
    "                             linestyle='-',\n",
    "                             random_classifier=False,\n",
    "                             calibration_scaler=calibrated_s if calibration else 1,\n",
    "                             age=age,\n",
    "                             splits=splits)})\n",
    "\n",
    "for k in curves.keys():\n",
    "    curves[k].update(dict(**renal_ews_configs))\n",
    "    \n",
    "curves_gbdt = deepcopy(curves)"
   ]
  },
  {
   "cell_type": "code",
   "execution_count": 6,
   "id": "a1dbbf3d-0719-410b-aa59-2daada2f5832",
   "metadata": {},
   "outputs": [],
   "source": [
    "curves = dict()\n",
    "for i, age in enumerate(['age_16_30', 'age_31_45', \"age_46_65\", \"age_66_80\", \"age_81_100\"]):\n",
    "    prev_adj = prev[i]\n",
    "    calibrated_s = (1/prev_ref-1) / (1/prev_adj-1)\n",
    "    curves.update({age: dict(res_path=os.path.join(renal_res_path, 'var28_simple_features_subcohort_%s_separate_combined_calibrated_lstm_test_FromZero'%age),\n",
    "                             color='C0',\n",
    "                             linestyle='-',\n",
    "                             random_classifier=False,\n",
    "                             calibration_scaler=calibrated_s if calibration else 1,\n",
    "                             age=age,\n",
    "                             splits=splits)})\n",
    "\n",
    "for k in curves.keys():\n",
    "    curves[k].update(dict(**renal_ews_configs))\n",
    "    \n",
    "curves_lstm = deepcopy(curves)"
   ]
  },
  {
   "cell_type": "code",
   "execution_count": 7,
   "id": "754efd05-3208-4e03-b53b-76e9512c5c43",
   "metadata": {},
   "outputs": [],
   "source": [
    "plt.figure(figsize=(w*2*cm, h*0.5*cm))\n",
    "metric_gbdt, _ = plot_metric_vs_setting(curves_gbdt,xlabel=\"age\")\n",
    "metric_lstm, _ = plot_metric_vs_setting(curves_lstm,xlabel=\"age\")\n",
    "plt.close()"
   ]
  },
  {
   "cell_type": "code",
   "execution_count": 8,
   "id": "8239cd27-6acd-456c-b8b3-82d37ca2e07a",
   "metadata": {},
   "outputs": [],
   "source": [
    "all_metric = []\n",
    "xticks = [curves_gbdt[model][\"age\"] for model in curves_gbdt.keys()]\n",
    "for model, metric in [(\"Time-stacked GBDT-snapshot\", metric_gbdt),\n",
    "                      (\"LSTM\", metric_lstm)]:\n",
    "    metric.loc[:,\"Model\"] = model    \n",
    "    all_metric.append(metric)\n",
    "all_metric = pd.concat(all_metric).reset_index(drop=True)"
   ]
  },
  {
   "cell_type": "code",
   "execution_count": 9,
   "id": "b5e9648f-99cc-4c8b-a3e2-d4553227af7c",
   "metadata": {},
   "outputs": [
    {
     "data": {
      "image/png": "[encoded data removed]",
      "text/plain": [
       "<Figure size 584.646x282.579 with 1 Axes>"
      ]
     },
     "metadata": {},
     "output_type": "display_data"
    }
   ],
   "source": [
    "plt.figure(figsize=(w*1.5*cm, h*0.75*cm))\n",
    "sns.barplot(all_metric, x=\"age\", y=\"metric\", order=xticks,\n",
    "            hue=\"Model\", hue_order=[\"LSTM\", \"Time-stacked GBDT-snapshot\"], \n",
    "            palette=[\"C7\", \"C0\"], zorder=10)\n",
    "plt.xticks(range(len(xticks)), [x.replace(\"age_\",\"\").replace(\"_\",\"-\") for x in xticks])\n",
    "plt.xlabel(\"\")\n",
    "plt.ylabel(\"Event-based AUPRC\")\n",
    "plt.legend(bbox_to_anchor=(0., 1.02, 1., .102), loc='lower left',\n",
    "           ncols=2, borderaxespad=0.)\n",
    "plt.tight_layout()\n",
    "plt.grid(axis=\"y\")\n",
    "plt.savefig(os.path.join(renal_fig_path,'age_fairness_calibrated' if calibration else \"age_fairness_uncalibrated\"))\n",
    "plt.show()  "
   ]
  }
 ],
 "metadata": {
  "kernelspec": {
   "display_name": "Python 3 (ipykernel)",
   "language": "python",
   "name": "python3"
  },
  "language_info": {
   "codemirror_mode": {
    "name": "ipython",
    "version": 3
   },
   "file_extension": ".py",
   "mimetype": "text/x-python",
   "name": "python",
   "nbconvert_exporter": "python",
   "pygments_lexer": "ipython3",
   "version": "3.9.12"
  }
 },
 "nbformat": 4,
 "nbformat_minor": 5
}
