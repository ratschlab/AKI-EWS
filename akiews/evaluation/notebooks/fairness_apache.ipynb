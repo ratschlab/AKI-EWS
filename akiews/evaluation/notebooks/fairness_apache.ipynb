{
 "cells": [
  {
   "cell_type": "code",
   "execution_count": 1,
   "id": "0a5853f8-a9c7-4b54-8585-cbaccfa253e1",
   "metadata": {},
   "outputs": [],
   "source": [
    "import pandas as pd\n",
    "import numpy as np\n",
    "import os\n",
    "import h5py\n",
    "from copy import deepcopy\n",
    "import sklearn.metrics as metrics\n",
    "\n",
    "import matplotlib.pyplot as plt\n",
    "plt.style.use('paper.mplstyle')\n",
    "import seaborn as sns\n",
    "\n",
    "from utils_plot import *\n",
    "\n",
    "cm = 1/2.54 \n",
    "h=5.8*1.1\n",
    "w=6*1.1\n",
    "\n",
    "resp_res_path = '/cluster/work/grlab/clinical/hirid2/research/event_based_analysis/resp/'\n",
    "renal_res_path = '/cluster/work/grlab/clinical/hirid2/research/kdigo_analysis/'\n",
    "resp_fig_path = '../Figures_Resp'\n",
    "renal_fig_path = 'paper_figures_renal'"
   ]
  },
  {
   "cell_type": "code",
   "execution_count": 3,
   "id": "efe444ac-6d13-48b4-852f-9633f05f1e9b",
   "metadata": {},
   "outputs": [],
   "source": [
    "metagroup_mapping = pd.read_csv('/cluster/work/grlab/clinical/Inselspital/DataReleases/01-19-2017/InselSpital/misc_derived/apache_metagroup_name.csv').set_index(\"meta_group\")"
   ]
  },
  {
   "cell_type": "code",
   "execution_count": 4,
   "id": "732f6862-b36d-4fdd-aea2-0002ecd063ac",
   "metadata": {},
   "outputs": [],
   "source": [
    "# early warning system configuration\n",
    "renal_ews_configs = dict()\n",
    "renal_ews_configs.update(pred_win=2880)\n",
    "renal_ews_configs.update(min_event_gap=0)\n",
    "renal_ews_configs.update(t_silence=480)\n",
    "renal_ews_configs.update(t_buffer=0)\n",
    "renal_ews_configs.update(t_reset=720)\n",
    "\n",
    "splits = ['temporal_%d'%i for i in np.arange(1,6)]\n",
    "calibration = False"
   ]
  },
  {
   "cell_type": "code",
   "execution_count": null,
   "id": "d04c249e-cd6f-48d9-837f-4b348c216c3c",
   "metadata": {},
   "outputs": [],
   "source": [
    "curve_ref = {\"ref\": dict(res_path=os.path.join(renal_res_path, \"var28_simple_features_separate_combined_calibrated_lgbm_test_FromZero\"),\n",
    "                         color='C0',\n",
    "                         linestyle='-',\n",
    "                         random_classifier=False,\n",
    "                         splits=splits)}\n",
    "\n",
    "for k in curve_ref.keys():\n",
    "    curve_ref[k].update(dict(**renal_ews_configs))\n",
    "    \n",
    "plt.figure(figsize=(w*2*cm, h*cm))\n",
    "_, prev_ref = plot_event_based_prc(curve_ref, fixed_rec=1.0)\n",
    "plt.close()"
   ]
  },
  {
   "cell_type": "code",
   "execution_count": 5,
   "id": "0469e7c8-a822-40d4-b1b7-d7398a3cf421",
   "metadata": {},
   "outputs": [],
   "source": [
    "curves = dict()\n",
    "\n",
    "for i, apache in enumerate([1,2,3,4,6,7,8,9,11,12,13,14,15,16,17]):\n",
    "    meta_name = metagroup_mapping.loc[apache,\"Name\"]\n",
    "    curves.update({meta_name: dict(res_path=os.path.join(renal_res_path, 'var28_simple_features_subcohort_apachepatgroup%d_separate_combined_calibrated_lgbm_test_FromZero'%apache),\n",
    "                                   color='C0',\n",
    "                                   linestyle='-',\n",
    "                                   random_classifier=False,\n",
    "                                   apachegroup=meta_name,\n",
    "                                   splits=splits)})\n",
    "\n",
    "for k in curves.keys():\n",
    "    curves[k].update(dict(**renal_ews_configs))\n",
    "    \n",
    "plt.figure(figsize=(w*2*cm, h*cm))\n",
    "_, prev = plot_metric_vs_setting(curves,xlabel=\"apachegroup\",ylabel=\"precision\", fixed_rec=1)\n",
    "plt.close()"
   ]
  },
  {
   "cell_type": "code",
   "execution_count": 7,
   "id": "33dfa961-7d9a-4e00-96d4-ce8a24062a59",
   "metadata": {},
   "outputs": [],
   "source": [
    "for i, apache in enumerate([1,2,3,4,6,7,8,9,11,12,13,14,15,16,17]):\n",
    "    prev_adj = prev[i]\n",
    "    calibrated_s = (1/prev_ref-1) / (1/prev_adj-1)\n",
    "\n",
    "    meta_name = metagroup_mapping.loc[apache,\"Name\"]\n",
    "    curves.update({meta_name: dict(res_path=os.path.join(renal_res_path, 'var28_simple_features_subcohort_apachepatgroup%d_separate_combined_calibrated_lgbm_test_FromZero'%apache),\n",
    "                                   color='C0',\n",
    "                                   linestyle='-',\n",
    "                                   random_classifier=False,\n",
    "                                   calibration_scaler=calibrated_s if calibration else 1,\n",
    "                                   apachegroup=meta_name,\n",
    "                                   splits=splits)})\n",
    "\n",
    "for k in curves.keys():\n",
    "    curves[k].update(dict(**renal_ews_configs))\n",
    "    \n",
    "curves_gbdt = deepcopy(curves)"
   ]
  },
  {
   "cell_type": "code",
   "execution_count": 8,
   "id": "4f57751c-cbfb-493c-9ebd-457e5dab4a77",
   "metadata": {},
   "outputs": [],
   "source": [
    "for i, apache in enumerate([1,2,3,4,6,7,8,9,11,12,13,14,15,16,17]):\n",
    "    prev_adj = prev[i]\n",
    "    calibrated_s = (1/prev_ref-1) / (1/prev_adj-1)\n",
    "\n",
    "    meta_name = metagroup_mapping.loc[apache,\"Name\"]\n",
    "    curves.update({meta_name: dict(res_path=os.path.join(renal_res_path, 'var28_simple_features_subcohort_apachepatgroup%d_separate_combined_calibrated_lstm_test_FromZero'%apache),\n",
    "                                   color='C0',\n",
    "                                   linestyle='-',\n",
    "                                   random_classifier=False,\n",
    "                                   calibration_scaler=calibrated_s if calibration else 1,\n",
    "                                   apachegroup=meta_name,\n",
    "                                   splits=splits)})\n",
    "\n",
    "for k in curves.keys():\n",
    "    curves[k].update(dict(**renal_ews_configs))\n",
    "    \n",
    "curves_lstm = deepcopy(curves)"
   ]
  },
  {
   "cell_type": "code",
   "execution_count": 9,
   "id": "dcddf2f9-052c-4742-b089-d2bfc01ef3ac",
   "metadata": {},
   "outputs": [],
   "source": [
    "plt.figure(figsize=(w*2*cm, h*0.5*cm))\n",
    "metric_gbdt, _ = plot_metric_vs_setting(curves_gbdt,xlabel=\"apachegroup\")\n",
    "metric_lstm, _ = plot_metric_vs_setting(curves_lstm,xlabel=\"apachegroup\")\n",
    "plt.close()"
   ]
  },
  {
   "cell_type": "code",
   "execution_count": 10,
   "id": "87277a31-3925-4dfc-879b-999b5f6683d0",
   "metadata": {},
   "outputs": [],
   "source": [
    "all_metric = []\n",
    "xticks = [curves_gbdt[model][\"apachegroup\"] for model in curves_gbdt.keys()]\n",
    "for model, metric in [(\"Time-stacked GBDT-snapshot\", metric_gbdt),\n",
    "                      (\"LSTM\", metric_lstm)]:\n",
    "    metric.loc[:,\"Model\"] = model    \n",
    "    all_metric.append(metric)\n",
    "all_metric = pd.concat(all_metric).reset_index(drop=True)"
   ]
  },
  {
   "cell_type": "code",
   "execution_count": 11,
   "id": "3f9ab3f3-71f5-47a0-82bb-6aed1ee58389",
   "metadata": {},
   "outputs": [
    {
     "data": {
      "image/png": "[encoded data removed]",
      "text/plain": [
       "<Figure size 584.646x282.579 with 1 Axes>"
      ]
     },
     "metadata": {},
     "output_type": "display_data"
    }
   ],
   "source": [
    "all_metric.loc[:,\"surgical\"] = all_metric.apachegroup.apply(lambda x: \"Non-surgical\" if 'surgical' not in x else \"Surgical\")\n",
    "all_metric.loc[:,\"apachegroup_new\"] = all_metric.apachegroup.apply(lambda x: x.replace(\" surgical\", \"\").replace(\"Cardiovascular/vascular\",\"Cardiovascular\"))\n",
    "\n",
    "plt.figure(figsize=(w*1.5*cm, h*0.75*cm))\n",
    "sns.barplot(all_metric, x=\"apachegroup_new\", y=\"metric\", order=['Cardiovascular', 'Respiratory', 'Neurologic', 'Gastrointestinal', 'Trauma'],\n",
    "            hue=\"Model\", hue_order=[\"LSTM\", \"Time-stacked GBDT-snapshot\"], palette=[\"C7\", \"C0\"],\n",
    "            zorder=10)\n",
    "plt.xlabel(\"\")\n",
    "plt.ylabel(\"Event-based AUPRC\")\n",
    "plt.legend(bbox_to_anchor=(0., 1.02, 1., .102), loc='lower left',\n",
    "           ncols=2, borderaxespad=0.)\n",
    "plt.tight_layout()\n",
    "plt.grid(axis=\"y\")\n",
    "plt.savefig(os.path.join(renal_fig_path,'apache_fairness_calibrated' if calibration else \"apache_fairness_uncalibrated\"))\n",
    "plt.show()  "
   ]
  },
  {
   "cell_type": "code",
   "execution_count": null,
   "id": "877527e2-330d-447a-ae46-411236aee5fe",
   "metadata": {},
   "outputs": [],
   "source": []
  }
 ],
 "metadata": {
  "kernelspec": {
   "display_name": "Python 3 (ipykernel)",
   "language": "python",
   "name": "python3"
  },
  "language_info": {
   "codemirror_mode": {
    "name": "ipython",
    "version": 3
   },
   "file_extension": ".py",
   "mimetype": "text/x-python",
   "name": "python",
   "nbconvert_exporter": "python",
   "pygments_lexer": "ipython3",
   "version": "3.9.12"
  }
 },
 "nbformat": 4,
 "nbformat_minor": 5
}
