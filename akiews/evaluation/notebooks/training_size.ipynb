{
 "cells": [
  {
   "cell_type": "code",
   "execution_count": 1,
   "id": "d657255d-ffbc-4a2d-a320-a57e666e5d8d",
   "metadata": {},
   "outputs": [],
   "source": [
    "import pandas as pd\n",
    "import numpy as np\n",
    "import os\n",
    "import h5py\n",
    "from copy import deepcopy\n",
    "import sklearn.metrics as metrics\n",
    "\n",
    "import matplotlib.pyplot as plt\n",
    "plt.style.use('paper.mplstyle')\n",
    "import seaborn as sns\n",
    "\n",
    "from utils_plot import *\n",
    "\n",
    "cm = 1/2.54 \n",
    "h=5.8*1.1\n",
    "w=6*1.1\n",
    "\n",
    "resp_res_path = '/cluster/work/grlab/clinical/hirid2/research/event_based_analysis/resp/'\n",
    "renal_res_path = '/cluster/work/grlab/clinical/hirid2/research/kdigo_analysis/'\n",
    "resp_fig_path = '../Figures_Resp'\n",
    "renal_fig_path = 'paper_figures_renal'"
   ]
  },
  {
   "cell_type": "code",
   "execution_count": 2,
   "id": "9db93414-eb4f-4c9c-83d0-5dccfa4e4a26",
   "metadata": {},
   "outputs": [],
   "source": [
    "# early warning system configuration\n",
    "renal_ews_configs = dict()\n",
    "renal_ews_configs.update(pred_win=2880)\n",
    "renal_ews_configs.update(min_event_gap=0)\n",
    "renal_ews_configs.update(t_silence=480)\n",
    "renal_ews_configs.update(t_buffer=0)\n",
    "renal_ews_configs.update(t_reset=720)\n",
    "\n",
    "splits = ['temporal_%d'%i for i in np.arange(1,6)]"
   ]
  },
  {
   "cell_type": "code",
   "execution_count": 3,
   "id": "191c220f-1872-4dca-b044-dd33c6471bdc",
   "metadata": {},
   "outputs": [
    {
     "ename": "FileNotFoundError",
     "evalue": "[Errno 2] No such file or directory: '/cluster/work/grlab/clinical/hirid2/research/kdigo_analysis/var28_complex_features_trainning_size_10pct_lgbm_test_FromZero/temporal_5'",
     "output_type": "error",
     "traceback": [
      "\u001b[0;31m---------------------------------------------------------------------------\u001b[0m",
      "\u001b[0;31mFileNotFoundError\u001b[0m                         Traceback (most recent call last)",
      "Cell \u001b[0;32mIn [3], line 29\u001b[0m\n\u001b[1;32m     26\u001b[0m     curves[k]\u001b[38;5;241m.\u001b[39mupdate(\u001b[38;5;28mdict\u001b[39m(\u001b[38;5;241m*\u001b[39m\u001b[38;5;241m*\u001b[39mrenal_ews_configs))\n\u001b[1;32m     28\u001b[0m plt\u001b[38;5;241m.\u001b[39mfigure(figsize\u001b[38;5;241m=\u001b[39m(w\u001b[38;5;241m*\u001b[39m\u001b[38;5;241m2\u001b[39m\u001b[38;5;241m*\u001b[39mcm, h\u001b[38;5;241m*\u001b[39mcm))\n\u001b[0;32m---> 29\u001b[0m \u001b[43mplot_metric_vs_setting\u001b[49m\u001b[43m(\u001b[49m\u001b[43mcurves\u001b[49m\u001b[43m,\u001b[49m\u001b[43mxlabel\u001b[49m\u001b[38;5;241;43m=\u001b[39;49m\u001b[38;5;124;43m\"\u001b[39;49m\u001b[38;5;124;43mtrain_size\u001b[39;49m\u001b[38;5;124;43m\"\u001b[39;49m\u001b[43m)\u001b[49m\n\u001b[1;32m     30\u001b[0m plt\u001b[38;5;241m.\u001b[39msavefig(os\u001b[38;5;241m.\u001b[39mpath\u001b[38;5;241m.\u001b[39mjoin(renal_fig_path,\u001b[38;5;124m'\u001b[39m\u001b[38;5;124mfemale_male\u001b[39m\u001b[38;5;124m'\u001b[39m))\n\u001b[1;32m     31\u001b[0m plt\u001b[38;5;241m.\u001b[39mshow() \n",
      "File \u001b[0;32m~/projects2016-ICUscore/analyses/event_based/notebooks/utils_plot.py:199\u001b[0m, in \u001b[0;36mplot_metric_vs_setting\u001b[0;34m(curves, ylabel, xlabel, fixed_rec)\u001b[0m\n\u001b[1;32m    196\u001b[0m \u001b[38;5;28;01melse\u001b[39;00m:\n\u001b[1;32m    197\u001b[0m     calibration_scaler \u001b[38;5;241m=\u001b[39m \u001b[38;5;241m1\u001b[39m\n\u001b[0;32m--> 199\u001b[0m res \u001b[38;5;241m=\u001b[39m \u001b[43mread_event_based_pr_multi_splits\u001b[49m\u001b[43m(\u001b[49m\u001b[43mcurves\u001b[49m\u001b[43m[\u001b[49m\u001b[43mmodel\u001b[49m\u001b[43m]\u001b[49m\u001b[43m[\u001b[49m\u001b[38;5;124;43m'\u001b[39;49m\u001b[38;5;124;43mres_path\u001b[39;49m\u001b[38;5;124;43m'\u001b[39;49m\u001b[43m]\u001b[49m\u001b[43m,\u001b[49m\u001b[43m \u001b[49m\n\u001b[1;32m    200\u001b[0m \u001b[43m                                       \u001b[49m\u001b[43mcurves\u001b[49m\u001b[43m[\u001b[49m\u001b[43mmodel\u001b[49m\u001b[43m]\u001b[49m\u001b[43m[\u001b[49m\u001b[38;5;124;43m'\u001b[39;49m\u001b[38;5;124;43msplits\u001b[39;49m\u001b[38;5;124;43m'\u001b[39;49m\u001b[43m]\u001b[49m\u001b[43m,\u001b[49m\u001b[43m \u001b[49m\n\u001b[1;32m    201\u001b[0m \u001b[43m                                       \u001b[49m\u001b[43mpred_win\u001b[49m\u001b[38;5;241;43m=\u001b[39;49m\u001b[43mcurves\u001b[49m\u001b[43m[\u001b[49m\u001b[43mmodel\u001b[49m\u001b[43m]\u001b[49m\u001b[43m[\u001b[49m\u001b[38;5;124;43m'\u001b[39;49m\u001b[38;5;124;43mpred_win\u001b[39;49m\u001b[38;5;124;43m'\u001b[39;49m\u001b[43m]\u001b[49m\u001b[43m,\u001b[49m\n\u001b[1;32m    202\u001b[0m \u001b[43m                                         \u001b[49m\u001b[43mmin_event_gap\u001b[49m\u001b[38;5;241;43m=\u001b[39;49m\u001b[43mcurves\u001b[49m\u001b[43m[\u001b[49m\u001b[43mmodel\u001b[49m\u001b[43m]\u001b[49m\u001b[43m[\u001b[49m\u001b[38;5;124;43m'\u001b[39;49m\u001b[38;5;124;43mmin_event_gap\u001b[39;49m\u001b[38;5;124;43m'\u001b[39;49m\u001b[43m]\u001b[49m\u001b[43m,\u001b[49m\n\u001b[1;32m    203\u001b[0m \u001b[43m                                         \u001b[49m\u001b[43mt_silence\u001b[49m\u001b[38;5;241;43m=\u001b[39;49m\u001b[43mcurves\u001b[49m\u001b[43m[\u001b[49m\u001b[43mmodel\u001b[49m\u001b[43m]\u001b[49m\u001b[43m[\u001b[49m\u001b[38;5;124;43m'\u001b[39;49m\u001b[38;5;124;43mt_silence\u001b[39;49m\u001b[38;5;124;43m'\u001b[39;49m\u001b[43m]\u001b[49m\u001b[43m,\u001b[49m\n\u001b[1;32m    204\u001b[0m \u001b[43m                                         \u001b[49m\u001b[43mt_buffer\u001b[49m\u001b[38;5;241;43m=\u001b[39;49m\u001b[43mcurves\u001b[49m\u001b[43m[\u001b[49m\u001b[43mmodel\u001b[49m\u001b[43m]\u001b[49m\u001b[43m[\u001b[49m\u001b[38;5;124;43m'\u001b[39;49m\u001b[38;5;124;43mt_buffer\u001b[39;49m\u001b[38;5;124;43m'\u001b[39;49m\u001b[43m]\u001b[49m\u001b[43m,\u001b[49m\n\u001b[1;32m    205\u001b[0m \u001b[43m                                         \u001b[49m\u001b[43mt_reset\u001b[49m\u001b[38;5;241;43m=\u001b[39;49m\u001b[43mcurves\u001b[49m\u001b[43m[\u001b[49m\u001b[43mmodel\u001b[49m\u001b[43m]\u001b[49m\u001b[43m[\u001b[49m\u001b[38;5;124;43m'\u001b[39;49m\u001b[38;5;124;43mt_reset\u001b[39;49m\u001b[38;5;124;43m'\u001b[39;49m\u001b[43m]\u001b[49m\u001b[43m,\u001b[49m\n\u001b[1;32m    206\u001b[0m \u001b[43m                                       \u001b[49m\u001b[43mrandom_classifier\u001b[49m\u001b[38;5;241;43m=\u001b[39;49m\u001b[43mcurves\u001b[49m\u001b[43m[\u001b[49m\u001b[43mmodel\u001b[49m\u001b[43m]\u001b[49m\u001b[43m[\u001b[49m\u001b[38;5;124;43m'\u001b[39;49m\u001b[38;5;124;43mrandom_classifier\u001b[39;49m\u001b[38;5;124;43m'\u001b[39;49m\u001b[43m]\u001b[49m\u001b[43m,\u001b[49m\n\u001b[1;32m    207\u001b[0m \u001b[43m                                         \u001b[49m\u001b[43mcalibration_scaler\u001b[49m\u001b[38;5;241;43m=\u001b[39;49m\u001b[43mcalibration_scaler\u001b[49m\u001b[43m)\u001b[49m\n\u001b[1;32m    210\u001b[0m aggr_res \u001b[38;5;241m=\u001b[39m [] \u001b[38;5;66;03m# aggregated results from all splits\u001b[39;00m\n\u001b[1;32m    211\u001b[0m \u001b[38;5;28;01mfor\u001b[39;00m k, v \u001b[38;5;129;01min\u001b[39;00m res\u001b[38;5;241m.\u001b[39mitems():\n",
      "File \u001b[0;32m~/projects2016-ICUscore/analyses/event_based/notebooks/utils_plot.py:79\u001b[0m, in \u001b[0;36mread_event_based_pr_multi_splits\u001b[0;34m(res_path, splits, pred_win, min_event_gap, t_silence, t_buffer, t_reset, calibration_scaler, random_classifier)\u001b[0m\n\u001b[1;32m     77\u001b[0m res \u001b[38;5;241m=\u001b[39m \u001b[38;5;28mdict\u001b[39m()\n\u001b[1;32m     78\u001b[0m \u001b[38;5;28;01mfor\u001b[39;00m split \u001b[38;5;129;01min\u001b[39;00m splits:\n\u001b[0;32m---> 79\u001b[0m     res\u001b[38;5;241m.\u001b[39mupdate({split: \u001b[43mread_event_based_pr_single_split\u001b[49m\u001b[43m(\u001b[49m\u001b[43mos\u001b[49m\u001b[38;5;241;43m.\u001b[39;49m\u001b[43mpath\u001b[49m\u001b[38;5;241;43m.\u001b[39;49m\u001b[43mjoin\u001b[49m\u001b[43m(\u001b[49m\u001b[43mres_path\u001b[49m\u001b[43m,\u001b[49m\u001b[43m \u001b[49m\u001b[43msplit\u001b[49m\u001b[43m)\u001b[49m\u001b[43m,\u001b[49m\n\u001b[1;32m     80\u001b[0m \u001b[43m                                                         \u001b[49m\u001b[43mpred_win\u001b[49m\u001b[38;5;241;43m=\u001b[39;49m\u001b[43mpred_win\u001b[49m\u001b[43m,\u001b[49m\n\u001b[1;32m     81\u001b[0m \u001b[43m                                                         \u001b[49m\u001b[43mmin_event_gap\u001b[49m\u001b[38;5;241;43m=\u001b[39;49m\u001b[43mmin_event_gap\u001b[49m\u001b[43m,\u001b[49m\n\u001b[1;32m     82\u001b[0m \u001b[43m                                                         \u001b[49m\u001b[43mt_silence\u001b[49m\u001b[38;5;241;43m=\u001b[39;49m\u001b[43mt_silence\u001b[49m\u001b[43m,\u001b[49m\n\u001b[1;32m     83\u001b[0m \u001b[43m                                                         \u001b[49m\u001b[43mt_buffer\u001b[49m\u001b[38;5;241;43m=\u001b[39;49m\u001b[43mt_buffer\u001b[49m\u001b[43m,\u001b[49m\n\u001b[1;32m     84\u001b[0m \u001b[43m                                                         \u001b[49m\u001b[43mt_reset\u001b[49m\u001b[38;5;241;43m=\u001b[39;49m\u001b[43mt_reset\u001b[49m\u001b[43m,\u001b[49m\n\u001b[1;32m     85\u001b[0m \u001b[43m                                                         \u001b[49m\u001b[43mrandom_classifier\u001b[49m\u001b[38;5;241;43m=\u001b[39;49m\u001b[43mrandom_classifier\u001b[49m\u001b[43m,\u001b[49m\n\u001b[1;32m     86\u001b[0m \u001b[43m                                                         \u001b[49m\u001b[43mcalibration_scaler\u001b[49m\u001b[38;5;241;43m=\u001b[39;49m\u001b[43mcalibration_scaler\u001b[49m\u001b[43m)\u001b[49m})\n\u001b[1;32m     88\u001b[0m \u001b[38;5;28;01mreturn\u001b[39;00m res\n",
      "File \u001b[0;32m~/projects2016-ICUscore/analyses/event_based/notebooks/utils_plot.py:36\u001b[0m, in \u001b[0;36mread_event_based_pr_single_split\u001b[0;34m(res_path, pred_win, min_event_gap, t_silence, t_buffer, t_reset, calibration_scaler, random_classifier)\u001b[0m\n\u001b[1;32m     30\u001b[0m prefix_str \u001b[38;5;241m=\u001b[39m \u001b[38;5;124m'\u001b[39m\u001b[38;5;124mtg-\u001b[39m\u001b[38;5;132;01m%d\u001b[39;00m\u001b[38;5;124m_tr-\u001b[39m\u001b[38;5;132;01m%d\u001b[39;00m\u001b[38;5;124m_dt-\u001b[39m\u001b[38;5;132;01m%d\u001b[39;00m\u001b[38;5;124m_ws-\u001b[39m\u001b[38;5;132;01m%d\u001b[39;00m\u001b[38;5;124m_ts-\u001b[39m\u001b[38;5;132;01m%d\u001b[39;00m\u001b[38;5;124m'\u001b[39m\u001b[38;5;241m%\u001b[39m(min_event_gap,\n\u001b[1;32m     31\u001b[0m                                               t_reset,\n\u001b[1;32m     32\u001b[0m                                               t_buffer,\n\u001b[1;32m     33\u001b[0m                                               pred_win,\n\u001b[1;32m     34\u001b[0m                                               t_silence) \u001b[38;5;66;03m# prefix for different configuration\u001b[39;00m\n\u001b[1;32m     35\u001b[0m res \u001b[38;5;241m=\u001b[39m []\n\u001b[0;32m---> 36\u001b[0m \u001b[38;5;28;01mfor\u001b[39;00m f \u001b[38;5;129;01min\u001b[39;00m \u001b[43mos\u001b[49m\u001b[38;5;241;43m.\u001b[39;49m\u001b[43mlistdir\u001b[49m\u001b[43m(\u001b[49m\u001b[43mres_path\u001b[49m\u001b[43m)\u001b[49m:\n\u001b[1;32m     37\u001b[0m     \u001b[38;5;28;01mif\u001b[39;00m prefix_str\u001b[38;5;241m+\u001b[39m\u001b[38;5;124m\"\u001b[39m\u001b[38;5;124m_\u001b[39m\u001b[38;5;124m\"\u001b[39m \u001b[38;5;129;01min\u001b[39;00m f \u001b[38;5;129;01mor\u001b[39;00m prefix_str\u001b[38;5;241m+\u001b[39m\u001b[38;5;124m\"\u001b[39m\u001b[38;5;124m.\u001b[39m\u001b[38;5;124m\"\u001b[39m \u001b[38;5;129;01min\u001b[39;00m f:\n\u001b[1;32m     38\u001b[0m         \u001b[38;5;28;01mif\u001b[39;00m random_classifier \u001b[38;5;129;01mand\u001b[39;00m \u001b[38;5;124m'\u001b[39m\u001b[38;5;124mrand\u001b[39m\u001b[38;5;124m'\u001b[39m \u001b[38;5;129;01min\u001b[39;00m f:\n",
      "\u001b[0;31mFileNotFoundError\u001b[0m: [Errno 2] No such file or directory: '/cluster/work/grlab/clinical/hirid2/research/kdigo_analysis/var28_complex_features_trainning_size_10pct_lgbm_test_FromZero/temporal_5'"
     ]
    },
    {
     "data": {
      "text/plain": [
       "<Figure size 779.528x376.772 with 0 Axes>"
      ]
     },
     "metadata": {},
     "output_type": "display_data"
    }
   ],
   "source": [
    "#### early warning system configuration\n",
    "curves = dict()\n",
    "curves.update({\"0.1%\": dict(res_path=os.path.join(renal_res_path, 'var28_complex_features_trainning_size_0p1pct_lgbm_test_FromZero'),\n",
    "                                             color='C0',\n",
    "                                             linestyle='-',\n",
    "                                             random_classifier=False,\n",
    "                                            train_size=str(0.1),\n",
    "                                             splits=splits)})\n",
    "\n",
    "for train_size in ([1, 2, 5, 10, 25, 50]):\n",
    "    curves.update({\"%d%%\"%train_size: dict(res_path=os.path.join(renal_res_path, 'var28_complex_features_trainning_size_%dpct_lgbm_test_FromZero'%train_size),\n",
    "                                                 color='C0',\n",
    "                                                 linestyle='-',\n",
    "                                                 random_classifier=False,\n",
    "                                                train_size=str(train_size),\n",
    "                                                 splits=splits)})\n",
    "    \n",
    "curves.update({\"100%\": dict(res_path=os.path.join(renal_res_path, 'var28_complex_features_lgbm_recompute_test_FromZero'),\n",
    "                                             color='C7',\n",
    "                                             linestyle='-',\n",
    "                                             random_classifier=False,\n",
    "                            train_size=str(100),\n",
    "                                             splits=splits)})\n",
    "\n",
    "for k in curves.keys():\n",
    "    curves[k].update(dict(**renal_ews_configs))\n",
    "    \n",
    "plt.figure(figsize=(w*2*cm, h*cm))\n",
    "plot_metric_vs_setting(curves,xlabel=\"train_size\")\n",
    "plt.savefig(os.path.join(renal_fig_path,'female_male'))\n",
    "plt.show() \n",
    "\n",
    "curves_complex = copy(curves)"
   ]
  },
  {
   "cell_type": "code",
   "execution_count": null,
   "id": "12527416-e3c1-4c79-a29d-9c275e56442b",
   "metadata": {},
   "outputs": [],
   "source": [
    "curves = dict()\n",
    "curves.update({\"0.1%\": dict(res_path=os.path.join(renal_res_path, 'var28_simple_features_trainning_size_0p1pct_lstm_test_FromZero'),\n",
    "                                             color='C0',\n",
    "                                             linestyle='-',\n",
    "                                             random_classifier=False,\n",
    "                                            train_size=str(0.1),\n",
    "                                             splits=splits)})\n",
    "\n",
    "for train_size in ([1, 2, 5, 10, 25, 50]):\n",
    "    curves.update({\"%d%%\"%train_size: dict(res_path=os.path.join(renal_res_path, 'var28_simple_features_trainning_size_%dpct_lstm_test_FromZero'%train_size),\n",
    "                                                 color='C0',\n",
    "                                                 linestyle='-',\n",
    "                                                 random_classifier=False,\n",
    "                                                train_size=str(train_size),\n",
    "                                                 splits=splits)})\n",
    "curves.update({\"100%\": dict(res_path=os.path.join(renal_res_path, 'var28_lstm_test_FromZero'),\n",
    "                                             color='C7',\n",
    "                                             linestyle='-',\n",
    "                                             random_classifier=False,\n",
    "                            train_size=str(100),\n",
    "                                             splits=splits)})\n",
    "\n",
    "for k in curves.keys():\n",
    "    curves[k].update(dict(**renal_ews_configs))\n",
    "\n",
    "curves_lstm = deepcopy(curves)"
   ]
  },
  {
   "cell_type": "code",
   "execution_count": null,
   "id": "f999eaf5-b8ad-41d2-824f-cca81bf087ea",
   "metadata": {},
   "outputs": [],
   "source": [
    "# early warning system configuration\n",
    "curves = dict()\n",
    "curves.update({\"0.1%\": dict(res_path=os.path.join(renal_res_path, 'var28_simple_features_trainning_size_0p1pct_lgbm_test_FromZero'),\n",
    "                                             color='C0',\n",
    "                                             linestyle=':',\n",
    "                                             random_classifier=False,\n",
    "                                            train_size=str(0.1),\n",
    "                                             splits=splits)})\n",
    "\n",
    "for train_size in ([50,25,10,5,2,1][::-1]):\n",
    "    curves.update({\"%d%%\"%train_size: dict(res_path=os.path.join(renal_res_path, 'var28_simple_features_trainning_size_%dpct_lgbm_test_FromZero'%train_size),\n",
    "                                                 color='C0',\n",
    "                                                 linestyle=':',\n",
    "                                                 random_classifier=False,\n",
    "                                                train_size=str(train_size),\n",
    "                                                 splits=splits)})\n",
    "curves.update({\"100%\": dict(res_path=os.path.join(renal_res_path, 'var28_simple_features_lgbm_recompute_test_FromZero'),\n",
    "                                             color='C7',\n",
    "                                             linestyle=':',\n",
    "                                             random_classifier=False,\n",
    "                            train_size=str(100),\n",
    "                                             splits=splits)})\n",
    "\n",
    "for k in curves.keys():\n",
    "    curves[k].update(dict(**renal_ews_configs))\n",
    "    \n",
    "curves_simple = deepcopy(curves)"
   ]
  },
  {
   "cell_type": "code",
   "execution_count": null,
   "id": "8eb4fec6-f3d9-4ce2-a840-0c16a418c839",
   "metadata": {},
   "outputs": [],
   "source": [
    "plt.figure(figsize=(w*2*cm, h*cm))\n",
    "plot_metric_vs_setting(curves_simple,xlabel=\"train_size\", fixed_rec=0.9, ylabel=\"precision@{recall=90%}\")\n",
    "plot_metric_vs_setting(curves_lstm,xlabel=\"train_size\", fixed_rec=0.9, ylabel=\"precision@{recall=90%}\")\n",
    "# plt.legend([\"Simple features\", \"_nolegend_\", \"Complex features\", \"_nolegend_\"])\n",
    "plt.legend([\"LightGBM\", \"_nolegend_\", \"LSTM\", \"_nolegend_\"])\n",
    "plt.xlabel(\"Training set size (%)\")\n",
    "plt.savefig(os.path.join(renal_fig_path,'training_size_rec_90'))\n",
    "plt.show()  "
   ]
  },
  {
   "cell_type": "code",
   "execution_count": null,
   "id": "ba12ceee-aa4f-4023-979a-0e43ca79c94c",
   "metadata": {},
   "outputs": [],
   "source": [
    "plt.figure(figsize=(w*2*cm, h*0.5*cm))\n",
    "metric_gbm_simple = plot_metric_vs_setting(curves_simple,xlabel=\"train_size\")\n",
    "metric_gbm_complex = plot_metric_vs_setting(curves_complex,xlabel=\"train_size\")\n",
    "metric_lstm = plot_metric_vs_setting(curves_lstm,xlabel=\"train_size\")\n",
    "# plt.legend([\"Simple features\", \"_nolegend_\", \"Complex features\", \"_nolegend_\"])\n",
    "plt.legend([\"GBM-snapshot\", \"_nolegend_\", \"GBM-history\", \"_nolegend_\", \"LSTM\", \"_nolegend_\"],\n",
    "           bbox_to_anchor=(0., 1.02, 1., .102), loc='lower left',\n",
    "                      ncols=3, mode=\"expand\", borderaxespad=0.)\n",
    "plt.xlabel(\"Training set size (%)\")\n",
    "plt.ylabel(\"AUPRC\")\n",
    "plt.savefig(os.path.join(renal_fig_path,'training_size_auprc'))\n",
    "plt.show()  "
   ]
  },
  {
   "cell_type": "code",
   "execution_count": null,
   "id": "8fc333d3-a179-4c3c-b294-6190cb06f3da",
   "metadata": {},
   "outputs": [],
   "source": [
    "all_metric = []\n",
    "xticks = [curves_simple[model][\"train_size\"] for model in curves_simple.keys()]\n",
    "for model, metric in [(\"GBDT-snapshot\", metric_gbm_simple),\n",
    "                      (\"GBDT-history\", metric_gbm_complex),\n",
    "                      (\"LSTM\", metric_lstm)]:\n",
    "    tmp_metric = metric.copy()\n",
    "    tmp_metric.loc[:,\"Model\"] = model\n",
    "    \n",
    "    all_metric.append(tmp_metric)\n",
    "all_metric = pd.concat(all_metric).reset_index(drop=True)"
   ]
  },
  {
   "cell_type": "code",
   "execution_count": null,
   "id": "89d3eb03-2519-4967-8ce0-deb722ded8d4",
   "metadata": {},
   "outputs": [],
   "source": [
    "all_metric"
   ]
  },
  {
   "cell_type": "code",
   "execution_count": null,
   "id": "7d33a1e1-f689-42dd-86df-523f5645033e",
   "metadata": {},
   "outputs": [],
   "source": [
    "plt.figure(figsize=(w*2*cm, h*0.5*cm))\n",
    "sns.barplot(all_metric, x=\"train_size\", y=\"metric\", hue=\"Model\", hue_order=[\"GBDT-snapshot\", \"GBDT-history\",\"LSTM\"], palette=[\"C0\", \"C1\", \"C7\"])\n",
    "plt.legend(bbox_to_anchor=(0., 1.02, 1., .102), loc='lower left',\n",
    "                      ncols=3, borderaxespad=0.)\n",
    "plt.xlabel(\"Training set size (%)\")\n",
    "plt.ylabel(\"Event-based AUPRC\")\n",
    "plt.savefig(os.path.join(renal_fig_path,'training_size_auprc'))\n",
    "plt.show()  "
   ]
  },
  {
   "cell_type": "code",
   "execution_count": null,
   "id": "4ac0cd00-3c18-4ef7-9460-443d86ad1f5d",
   "metadata": {},
   "outputs": [],
   "source": []
  }
 ],
 "metadata": {
  "kernelspec": {
   "display_name": "Python 3 (ipykernel)",
   "language": "python",
   "name": "python3"
  },
  "language_info": {
   "codemirror_mode": {
    "name": "ipython",
    "version": 3
   },
   "file_extension": ".py",
   "mimetype": "text/x-python",
   "name": "python",
   "nbconvert_exporter": "python",
   "pygments_lexer": "ipython3",
   "version": "3.9.12"
  }
 },
 "nbformat": 4,
 "nbformat_minor": 5
}
